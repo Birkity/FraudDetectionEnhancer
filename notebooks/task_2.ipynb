{
 "cells": [
  {
   "cell_type": "markdown",
   "metadata": {},
   "source": [
    "Step 1: Data Cleaning and Saving Cleaned Versions"
   ]
  },
  {
   "cell_type": "code",
   "execution_count": 1,
   "metadata": {},
   "outputs": [],
   "source": [
    "import pandas as pd\n",
    "import numpy as np\n",
    "\n",
    "creditcard_df = pd.read_csv('../data/creditcard.csv')\n",
    "fraud_data_df = pd.read_csv('../data/Fraud_Data.csv')"
   ]
  },
  {
   "cell_type": "code",
   "execution_count": 2,
   "metadata": {},
   "outputs": [],
   "source": [
    "creditcard_df.drop_duplicates(inplace=True)"
   ]
  },
  {
   "cell_type": "code",
   "execution_count": 3,
   "metadata": {},
   "outputs": [],
   "source": [
    "creditcard_df['Time'] = pd.to_datetime(creditcard_df['Time'], unit='s', origin='2010-01-01')"
   ]
  },
  {
   "cell_type": "code",
   "execution_count": 4,
   "metadata": {},
   "outputs": [],
   "source": [
    "creditcard_df.to_csv('../data/cleaned_creditcard.csv', index=False)"
   ]
  },
  {
   "cell_type": "code",
   "execution_count": 5,
   "metadata": {},
   "outputs": [],
   "source": [
    "fraud_data_df.drop_duplicates(inplace=True)"
   ]
  },
  {
   "cell_type": "code",
   "execution_count": 6,
   "metadata": {},
   "outputs": [],
   "source": [
    "fraud_data_df['signup_time'] = pd.to_datetime(fraud_data_df['signup_time'])\n",
    "fraud_data_df['purchase_time'] = pd.to_datetime(fraud_data_df['purchase_time'])"
   ]
  },
  {
   "cell_type": "code",
   "execution_count": 7,
   "metadata": {},
   "outputs": [],
   "source": [
    "fraud_data_df.to_csv('../data/cleaned_fraud_data.csv', index=False)"
   ]
  },
  {
   "cell_type": "code",
   "execution_count": 8,
   "metadata": {},
   "outputs": [],
   "source": [
    "fraud_data_df['signup_time'] = pd.to_datetime(fraud_data_df['signup_time'])\n",
    "fraud_data_df['purchase_time'] = pd.to_datetime(fraud_data_df['purchase_time'])\n",
    "fraud_data_df['signup_month'] = fraud_data_df['signup_time'].dt.month\n",
    "fraud_data_df['signup_day'] = fraud_data_df['signup_time'].dt.day\n",
    "fraud_data_df['purchase_month'] = fraud_data_df['purchase_time'].dt.month\n",
    "fraud_data_df['purchase_day'] = fraud_data_df['purchase_time'].dt.day\n",
    "fraud_data_df['purchase_hour'] = fraud_data_df['purchase_time'].dt.hour\n",
    "fraud_data_df['time_diff'] = (fraud_data_df['purchase_time'] - fraud_data_df['signup_time']).dt.total_seconds() / 3600"
   ]
  },
  {
   "cell_type": "code",
   "execution_count": 9,
   "metadata": {},
   "outputs": [],
   "source": [
    "fraud_data_df.drop(['signup_time', 'purchase_time'], axis=1, inplace=True)"
   ]
  },
  {
   "cell_type": "code",
   "execution_count": 10,
   "metadata": {},
   "outputs": [],
   "source": [
    "from sklearn.preprocessing import LabelEncoder\n",
    "le = LabelEncoder()\n",
    "\n",
    "fraud_data_df['device_id_encoded'] = le.fit_transform(fraud_data_df['device_id'])\n",
    "\n",
    "fraud_data_df = fraud_data_df.drop(['device_id'], axis=1)"
   ]
  },
  {
   "cell_type": "code",
   "execution_count": 11,
   "metadata": {},
   "outputs": [],
   "source": [
    "creditcard_df['Time'] = pd.to_datetime(creditcard_df['Time'], unit='s', origin='unix')\n",
    "creditcard_df['transaction_hour'] = creditcard_df['Time'].dt.hour\n",
    "creditcard_df['transaction_day'] = creditcard_df['Time'].dt.day\n",
    "creditcard_df['transaction_month'] = creditcard_df['Time'].dt.month"
   ]
  },
  {
   "cell_type": "code",
   "execution_count": 12,
   "metadata": {},
   "outputs": [],
   "source": [
    "creditcard_df.drop(['Time'], axis=1, inplace=True)"
   ]
  },
  {
   "cell_type": "code",
   "execution_count": 13,
   "metadata": {},
   "outputs": [],
   "source": [
    "from sklearn.preprocessing import StandardScaler, MinMaxScaler, LabelEncoder, OneHotEncoder\n",
    "label_encoder = LabelEncoder()\n",
    "fraud_data_df['source'] = label_encoder.fit_transform(fraud_data_df['source'])\n",
    "fraud_data_df['browser'] = label_encoder.fit_transform(fraud_data_df['browser'])\n",
    "fraud_data_df['sex'] = label_encoder.fit_transform(fraud_data_df['sex'])"
   ]
  },
  {
   "cell_type": "code",
   "execution_count": 14,
   "metadata": {},
   "outputs": [],
   "source": [
    "scaler = StandardScaler()\n",
    "\n",
    "numerical_columns_fraud = fraud_data_df.select_dtypes(include=['int64', 'float64']).columns.difference(['class'])\n",
    "fraud_data_df[numerical_columns_fraud] = scaler.fit_transform(fraud_data_df[numerical_columns_fraud])"
   ]
  },
  {
   "cell_type": "code",
   "execution_count": 15,
   "metadata": {},
   "outputs": [],
   "source": [
    "numerical_columns_credit = creditcard_df.select_dtypes(include=['int64', 'float64']).columns.difference(['Class'])\n",
    "creditcard_df[numerical_columns_credit] = scaler.fit_transform(creditcard_df[numerical_columns_credit])"
   ]
  },
  {
   "cell_type": "markdown",
   "metadata": {},
   "source": [
    "Feature and Target Separation"
   ]
  },
  {
   "cell_type": "code",
   "execution_count": 16,
   "metadata": {},
   "outputs": [],
   "source": [
    "X_fraud = fraud_data_df.drop('class', axis=1)\n",
    "y_fraud = fraud_data_df['class']\n",
    "\n",
    "X_credit = creditcard_df.drop('Class', axis=1)\n",
    "y_credit = creditcard_df['Class']"
   ]
  },
  {
   "cell_type": "markdown",
   "metadata": {},
   "source": [
    "Train-Test Split"
   ]
  },
  {
   "cell_type": "code",
   "execution_count": 17,
   "metadata": {},
   "outputs": [],
   "source": [
    "from sklearn.model_selection import train_test_split\n",
    "\n",
    "X_train_credit, X_test_credit, y_train_credit, y_test_credit = train_test_split(X_credit, y_credit, test_size=0.2, random_state=42)\n",
    "\n",
    "X_train_fraud, X_test_fraud, y_train_fraud, y_test_fraud = train_test_split(X_fraud, y_fraud, test_size=0.2, random_state=42)\n"
   ]
  },
  {
   "cell_type": "code",
   "execution_count": 18,
   "metadata": {},
   "outputs": [
    {
     "name": "stdout",
     "output_type": "stream",
     "text": [
      "Preprocessing complete! Data is ready for training.\n"
     ]
    }
   ],
   "source": [
    "X_train_fraud.to_csv('../data/X_train_fraud.csv', index=False)\n",
    "X_test_fraud.to_csv('../data/X_test_fraud.csv', index=False)\n",
    "y_train_fraud.to_csv('../data/y_train_fraud.csv', index=False)\n",
    "y_test_fraud.to_csv('../data/y_test_fraud.csv', index=False)\n",
    "\n",
    "X_train_credit.to_csv('../data/X_train_credit.csv', index=False)\n",
    "X_test_credit.to_csv('../data/X_test_credit.csv', index=False)\n",
    "y_train_credit.to_csv('../data/y_train_credit.csv', index=False)\n",
    "y_test_credit.to_csv('../data/y_test_credit.csv', index=False)\n",
    "\n",
    "print(\"Preprocessing complete! Data is ready for training.\")"
   ]
  },
  {
   "cell_type": "markdown",
   "metadata": {},
   "source": [
    "Step 2: Model Selection"
   ]
  },
  {
   "cell_type": "code",
   "execution_count": 19,
   "metadata": {},
   "outputs": [],
   "source": [
    "import mlflow\n",
    "import mlflow.sklearn\n",
    "from sklearn.linear_model import LogisticRegression\n",
    "from sklearn.tree import DecisionTreeClassifier\n",
    "from sklearn.ensemble import RandomForestClassifier, GradientBoostingClassifier\n",
    "from sklearn.neural_network import MLPClassifier\n",
    "from sklearn.metrics import accuracy_score, precision_score, recall_score, f1_score, roc_auc_score\n",
    "from keras.models import Sequential\n",
    "from keras.layers import Dense, LSTM, Conv1D, MaxPooling1D, Flatten\n",
    "from keras.utils import to_categorical\n",
    "\n",
    "def train_and_evaluate_model(model, model_name, X_train, X_test, y_train, y_test):\n",
    "    with mlflow.start_run(run_name=model_name):\n",
    "        model.fit(X_train, y_train)\n",
    "        y_pred = model.predict(X_test)\n",
    "        y_proba = model.predict_proba(X_test)[:, 1] if hasattr(model, \"predict_proba\") else None\n",
    "        \n",
    "        accuracy = accuracy_score(y_test, y_pred)\n",
    "        precision = precision_score(y_test, y_pred)\n",
    "        recall = recall_score(y_test, y_pred)\n",
    "        f1 = f1_score(y_test, y_pred)\n",
    "        roc_auc = roc_auc_score(y_test, y_proba) if y_proba is not None else float('nan')\n",
    "        \n",
    "        mlflow.log_params(model.get_params())\n",
    "        mlflow.log_metrics({\n",
    "            \"accuracy\": accuracy,\n",
    "            \"precision\": precision,\n",
    "            \"recall\": recall,\n",
    "            \"f1_score\": f1,\n",
    "            \"roc_auc\": roc_auc\n",
    "        })\n",
    "        \n",
    "        mlflow.sklearn.log_model(model, model_name)\n",
    "        \n",
    "        print(f\"{model_name} - Accuracy: {accuracy}, Precision: {precision}, Recall: {recall}, F1 Score: {f1}, ROC-AUC: {roc_auc}\")"
   ]
  },
  {
   "cell_type": "code",
   "execution_count": 20,
   "metadata": {},
   "outputs": [],
   "source": [
    "models = {\n",
    "    \"Logistic Regression\": LogisticRegression(max_iter=1000),\n",
    "    \"Decision Tree\": DecisionTreeClassifier(),\n",
    "    \"Random Forest\": RandomForestClassifier(n_estimators=100),\n",
    "    \"Gradient Boosting\": GradientBoostingClassifier(),\n",
    "    \"MLP Classifier\": MLPClassifier(hidden_layer_sizes=(100, 50), max_iter=500)\n",
    "}"
   ]
  },
  {
   "cell_type": "code",
   "execution_count": 21,
   "metadata": {},
   "outputs": [
    {
     "name": "stdout",
     "output_type": "stream",
     "text": [
      "\n",
      "Training models on credit card data...\n"
     ]
    },
    {
     "name": "stderr",
     "output_type": "stream",
     "text": [
      "2024/10/26 18:22:31 WARNING mlflow.models.model: Model logged without a signature and input example. Please set `input_example` parameter when logging the model to auto infer the model signature.\n"
     ]
    },
    {
     "name": "stdout",
     "output_type": "stream",
     "text": [
      "Logistic Regression - Credit - Accuracy: 0.9992246149508336, Precision: 0.896551724137931, Recall: 0.5777777777777777, F1 Score: 0.7027027027027027, ROC-AUC: 0.9652120791364649\n"
     ]
    },
    {
     "name": "stderr",
     "output_type": "stream",
     "text": [
      "2024/10/26 18:22:59 WARNING mlflow.models.model: Model logged without a signature and input example. Please set `input_example` parameter when logging the model to auto infer the model signature.\n"
     ]
    },
    {
     "name": "stdout",
     "output_type": "stream",
     "text": [
      "Decision Tree - Credit - Accuracy: 0.9991012582384662, Precision: 0.7052631578947368, Recall: 0.7444444444444445, F1 Score: 0.7243243243243244, ROC-AUC: 0.8719751168847469\n"
     ]
    },
    {
     "name": "stderr",
     "output_type": "stream",
     "text": [
      "2024/10/26 18:26:46 WARNING mlflow.models.model: Model logged without a signature and input example. Please set `input_example` parameter when logging the model to auto infer the model signature.\n"
     ]
    },
    {
     "name": "stdout",
     "output_type": "stream",
     "text": [
      "Random Forest - Credit - Accuracy: 0.9995594403129736, Precision: 0.9850746268656716, Recall: 0.7333333333333333, F1 Score: 0.8407643312101911, ROC-AUC: 0.9145920604662839\n"
     ]
    },
    {
     "name": "stderr",
     "output_type": "stream",
     "text": [
      "2024/10/26 18:32:54 WARNING mlflow.models.model: Model logged without a signature and input example. Please set `input_example` parameter when logging the model to auto infer the model signature.\n"
     ]
    },
    {
     "name": "stdout",
     "output_type": "stream",
     "text": [
      "Gradient Boosting - Credit - Accuracy: 0.9992951045007578, Precision: 0.890625, Recall: 0.6333333333333333, F1 Score: 0.7402597402597403, ROC-AUC: 0.7664991841601556\n"
     ]
    },
    {
     "name": "stderr",
     "output_type": "stream",
     "text": [
      "2024/10/26 18:34:00 WARNING mlflow.models.model: Model logged without a signature and input example. Please set `input_example` parameter when logging the model to auto infer the model signature.\n"
     ]
    },
    {
     "name": "stdout",
     "output_type": "stream",
     "text": [
      "MLP Classifier - Credit - Accuracy: 0.999365594050682, Precision: 0.921875, Recall: 0.6555555555555556, F1 Score: 0.7662337662337663, ROC-AUC: 0.9482269211459413\n"
     ]
    }
   ],
   "source": [
    "print(\"\\nTraining models on credit card data...\")\n",
    "for model_name, model in models.items():\n",
    "    train_and_evaluate_model(model, model_name + \" - Credit\", X_train_credit, X_test_credit, y_train_credit, y_test_credit)"
   ]
  },
  {
   "cell_type": "code",
   "execution_count": 22,
   "metadata": {},
   "outputs": [
    {
     "name": "stdout",
     "output_type": "stream",
     "text": [
      "Training models on fraud data...\n"
     ]
    },
    {
     "name": "stderr",
     "output_type": "stream",
     "text": [
      "c:\\Users\\USER\\Documents\\OPLearning\\10_Academy\\Week_8_&_9\\myenv\\Lib\\site-packages\\sklearn\\linear_model\\_logistic.py:469: ConvergenceWarning: lbfgs failed to converge (status=1):\n",
      "STOP: TOTAL NO. of ITERATIONS REACHED LIMIT.\n",
      "\n",
      "Increase the number of iterations (max_iter) or scale the data as shown in:\n",
      "    https://scikit-learn.org/stable/modules/preprocessing.html\n",
      "Please also refer to the documentation for alternative solver options:\n",
      "    https://scikit-learn.org/stable/modules/linear_model.html#logistic-regression\n",
      "  n_iter_i = _check_optimize_result(\n",
      "2024/10/26 18:34:12 WARNING mlflow.models.model: Model logged without a signature and input example. Please set `input_example` parameter when logging the model to auto infer the model signature.\n"
     ]
    },
    {
     "name": "stdout",
     "output_type": "stream",
     "text": [
      "Logistic Regression - Fraud - Accuracy: 0.9331303973794792, Precision: 0.958011049723757, Recall: 0.3042105263157895, F1 Score: 0.4617842876165113, ROC-AUC: 0.7649434165181338\n"
     ]
    },
    {
     "name": "stderr",
     "output_type": "stream",
     "text": [
      "2024/10/26 18:34:18 WARNING mlflow.models.model: Model logged without a signature and input example. Please set `input_example` parameter when logging the model to auto infer the model signature.\n"
     ]
    },
    {
     "name": "stdout",
     "output_type": "stream",
     "text": [
      "Decision Tree - Fraud - Accuracy: 0.901697382787943, Precision: 0.48190248279988035, Recall: 0.5652631578947368, F1 Score: 0.5202648151138382, ROC-AUC: 0.750994564370961\n"
     ]
    },
    {
     "name": "stderr",
     "output_type": "stream",
     "text": [
      "2024/10/26 18:34:58 WARNING mlflow.models.model: Model logged without a signature and input example. Please set `input_example` parameter when logging the model to auto infer the model signature.\n"
     ]
    },
    {
     "name": "stdout",
     "output_type": "stream",
     "text": [
      "Random Forest - Fraud - Accuracy: 0.9564239155609966, Precision: 1.0, Recall: 0.5378947368421053, F1 Score: 0.6995208761122519, ROC-AUC: 0.7749984970463276\n"
     ]
    },
    {
     "name": "stderr",
     "output_type": "stream",
     "text": [
      "2024/10/26 18:35:41 WARNING mlflow.models.model: Model logged without a signature and input example. Please set `input_example` parameter when logging the model to auto infer the model signature.\n"
     ]
    },
    {
     "name": "stdout",
     "output_type": "stream",
     "text": [
      "Gradient Boosting - Fraud - Accuracy: 0.9564570029447772, Precision: 1.0, Recall: 0.5382456140350877, F1 Score: 0.6998175182481752, ROC-AUC: 0.7761667438973352\n"
     ]
    },
    {
     "name": "stderr",
     "output_type": "stream",
     "text": [
      "2024/10/26 18:40:41 WARNING mlflow.models.model: Model logged without a signature and input example. Please set `input_example` parameter when logging the model to auto infer the model signature.\n"
     ]
    },
    {
     "name": "stdout",
     "output_type": "stream",
     "text": [
      "MLP Classifier - Fraud - Accuracy: 0.9082155973927142, Precision: 0.975, Recall: 0.02736842105263158, F1 Score: 0.05324232081911263, ROC-AUC: 0.7601018675721563\n"
     ]
    }
   ],
   "source": [
    "print(\"Training models on fraud data...\")\n",
    "for model_name, model in models.items():\n",
    "    train_and_evaluate_model(model, model_name + \" - Fraud\", X_train_fraud, X_test_fraud, y_train_fraud, y_test_fraud)"
   ]
  },
  {
   "cell_type": "markdown",
   "metadata": {},
   "source": [
    "# ---------------------------\n",
    "# Deep Learning Models (CNN, RNN, LSTM)\n",
    "# ---------------------------"
   ]
  },
  {
   "cell_type": "code",
   "execution_count": 23,
   "metadata": {},
   "outputs": [],
   "source": [
    "from keras.callbacks import EarlyStopping\n",
    "\n",
    "def build_and_train_keras_model(model, model_name, X_train, X_test, y_train, y_test, input_shape):\n",
    "    with mlflow.start_run(run_name=model_name):\n",
    "        model.compile(optimizer='adam', loss='binary_crossentropy', metrics=['accuracy'])\n",
    "        \n",
    "        early_stopping = EarlyStopping(monitor='val_loss', patience=3)\n",
    "        \n",
    "        model.fit(X_train, y_train, validation_split=0.2, epochs=20, batch_size=32, callbacks=[early_stopping])\n",
    "        loss, accuracy = model.evaluate(X_test, y_test)\n",
    "        \n",
    "        \n",
    "        y_proba = model.predict(X_test).ravel()\n",
    "        y_pred = (y_proba > 0.5).astype(int)\n",
    "        precision = precision_score(y_test, y_pred)\n",
    "        recall = recall_score(y_test, y_pred)\n",
    "        f1 = f1_score(y_test, y_pred)\n",
    "        roc_auc = roc_auc_score(y_test, y_proba)\n",
    "        \n",
    "        \n",
    "        mlflow.log_metrics({\n",
    "            \"accuracy\": accuracy,\n",
    "            \"precision\": precision,\n",
    "            \"recall\": recall,\n",
    "            \"f1_score\": f1,\n",
    "            \"roc_auc\": roc_auc\n",
    "        })\n",
    "        mlflow.keras.log_model(model, model_name)\n",
    "        \n",
    "        print(f\"{model_name} - Accuracy: {accuracy}, Precision: {precision}, Recall: {recall}, F1 Score: {f1}, ROC-AUC: {roc_auc}\")"
   ]
  },
  {
   "cell_type": "code",
   "execution_count": 24,
   "metadata": {},
   "outputs": [],
   "source": [
    "X_train_fraud_dl = np.expand_dims(X_train_fraud.values, axis=2)\n",
    "X_test_fraud_dl = np.expand_dims(X_test_fraud.values, axis=2)\n",
    "X_train_credit_dl = np.expand_dims(X_train_credit.values, axis=2)\n",
    "X_test_credit_dl = np.expand_dims(X_test_credit.values, axis=2)"
   ]
  },
  {
   "cell_type": "code",
   "execution_count": 25,
   "metadata": {},
   "outputs": [
    {
     "name": "stderr",
     "output_type": "stream",
     "text": [
      "c:\\Users\\USER\\Documents\\OPLearning\\10_Academy\\Week_8_&_9\\myenv\\Lib\\site-packages\\keras\\src\\layers\\convolutional\\base_conv.py:107: UserWarning: Do not pass an `input_shape`/`input_dim` argument to a layer. When using Sequential models, prefer using an `Input(shape)` object as the first layer in the model instead.\n",
      "  super().__init__(activity_regularizer=activity_regularizer, **kwargs)\n"
     ]
    },
    {
     "name": "stdout",
     "output_type": "stream",
     "text": [
      "Epoch 1/20\n",
      "\u001b[1m3023/3023\u001b[0m \u001b[32m━━━━━━━━━━━━━━━━━━━━\u001b[0m\u001b[37m\u001b[0m \u001b[1m14s\u001b[0m 2ms/step - accuracy: 0.8455 - loss: 64.4966 - val_accuracy: 0.9092 - val_loss: 10.4308\n",
      "Epoch 2/20\n",
      "\u001b[1m3023/3023\u001b[0m \u001b[32m━━━━━━━━━━━━━━━━━━━━\u001b[0m\u001b[37m\u001b[0m \u001b[1m7s\u001b[0m 2ms/step - accuracy: 0.8679 - loss: 8.7983 - val_accuracy: 0.9098 - val_loss: 8.4477\n",
      "Epoch 3/20\n",
      "\u001b[1m3023/3023\u001b[0m \u001b[32m━━━━━━━━━━━━━━━━━━━━\u001b[0m\u001b[37m\u001b[0m \u001b[1m6s\u001b[0m 2ms/step - accuracy: 0.8766 - loss: 5.0033 - val_accuracy: 0.9076 - val_loss: 14.1165\n",
      "Epoch 4/20\n",
      "\u001b[1m3023/3023\u001b[0m \u001b[32m━━━━━━━━━━━━━━━━━━━━\u001b[0m\u001b[37m\u001b[0m \u001b[1m6s\u001b[0m 2ms/step - accuracy: 0.8759 - loss: 3.8696 - val_accuracy: 0.8461 - val_loss: 0.9588\n",
      "Epoch 5/20\n",
      "\u001b[1m3023/3023\u001b[0m \u001b[32m━━━━━━━━━━━━━━━━━━━━\u001b[0m\u001b[37m\u001b[0m \u001b[1m6s\u001b[0m 2ms/step - accuracy: 0.8810 - loss: 2.3708 - val_accuracy: 0.9364 - val_loss: 0.5950\n",
      "Epoch 6/20\n",
      "\u001b[1m3023/3023\u001b[0m \u001b[32m━━━━━━━━━━━━━━━━━━━━\u001b[0m\u001b[37m\u001b[0m \u001b[1m7s\u001b[0m 2ms/step - accuracy: 0.8906 - loss: 1.6823 - val_accuracy: 0.8934 - val_loss: 0.4139\n",
      "Epoch 7/20\n",
      "\u001b[1m3023/3023\u001b[0m \u001b[32m━━━━━━━━━━━━━━━━━━━━\u001b[0m\u001b[37m\u001b[0m \u001b[1m7s\u001b[0m 2ms/step - accuracy: 0.9067 - loss: 0.8383 - val_accuracy: 0.9443 - val_loss: 0.4387\n",
      "Epoch 8/20\n",
      "\u001b[1m3023/3023\u001b[0m \u001b[32m━━━━━━━━━━━━━━━━━━━━\u001b[0m\u001b[37m\u001b[0m \u001b[1m8s\u001b[0m 3ms/step - accuracy: 0.9190 - loss: 0.5308 - val_accuracy: 0.9513 - val_loss: 0.2087\n",
      "Epoch 9/20\n",
      "\u001b[1m3023/3023\u001b[0m \u001b[32m━━━━━━━━━━━━━━━━━━━━\u001b[0m\u001b[37m\u001b[0m \u001b[1m7s\u001b[0m 2ms/step - accuracy: 0.9412 - loss: 0.2885 - val_accuracy: 0.9527 - val_loss: 0.1907\n",
      "Epoch 10/20\n",
      "\u001b[1m3023/3023\u001b[0m \u001b[32m━━━━━━━━━━━━━━━━━━━━\u001b[0m\u001b[37m\u001b[0m \u001b[1m7s\u001b[0m 2ms/step - accuracy: 0.9522 - loss: 0.2019 - val_accuracy: 0.9517 - val_loss: 0.2077\n",
      "Epoch 11/20\n",
      "\u001b[1m3023/3023\u001b[0m \u001b[32m━━━━━━━━━━━━━━━━━━━━\u001b[0m\u001b[37m\u001b[0m \u001b[1m7s\u001b[0m 2ms/step - accuracy: 0.9528 - loss: 0.1932 - val_accuracy: 0.9540 - val_loss: 0.1866\n",
      "Epoch 12/20\n",
      "\u001b[1m3023/3023\u001b[0m \u001b[32m━━━━━━━━━━━━━━━━━━━━\u001b[0m\u001b[37m\u001b[0m \u001b[1m9s\u001b[0m 3ms/step - accuracy: 0.9564 - loss: 0.1796 - val_accuracy: 0.9555 - val_loss: 0.1861\n",
      "Epoch 13/20\n",
      "\u001b[1m3023/3023\u001b[0m \u001b[32m━━━━━━━━━━━━━━━━━━━━\u001b[0m\u001b[37m\u001b[0m \u001b[1m8s\u001b[0m 3ms/step - accuracy: 0.9547 - loss: 0.1842 - val_accuracy: 0.4380 - val_loss: 5.7077\n",
      "Epoch 14/20\n",
      "\u001b[1m3023/3023\u001b[0m \u001b[32m━━━━━━━━━━━━━━━━━━━━\u001b[0m\u001b[37m\u001b[0m \u001b[1m7s\u001b[0m 2ms/step - accuracy: 0.9530 - loss: 0.1974 - val_accuracy: 0.9555 - val_loss: 0.1818\n",
      "Epoch 15/20\n",
      "\u001b[1m3023/3023\u001b[0m \u001b[32m━━━━━━━━━━━━━━━━━━━━\u001b[0m\u001b[37m\u001b[0m \u001b[1m7s\u001b[0m 2ms/step - accuracy: 0.9558 - loss: 0.1805 - val_accuracy: 0.9547 - val_loss: 0.1833\n",
      "Epoch 16/20\n",
      "\u001b[1m3023/3023\u001b[0m \u001b[32m━━━━━━━━━━━━━━━━━━━━\u001b[0m\u001b[37m\u001b[0m \u001b[1m7s\u001b[0m 2ms/step - accuracy: 0.9551 - loss: 0.1853 - val_accuracy: 0.9553 - val_loss: 0.1836\n",
      "Epoch 17/20\n",
      "\u001b[1m3023/3023\u001b[0m \u001b[32m━━━━━━━━━━━━━━━━━━━━\u001b[0m\u001b[37m\u001b[0m \u001b[1m7s\u001b[0m 2ms/step - accuracy: 0.9567 - loss: 0.1776 - val_accuracy: 0.9548 - val_loss: 0.1838\n",
      "\u001b[1m945/945\u001b[0m \u001b[32m━━━━━━━━━━━━━━━━━━━━\u001b[0m\u001b[37m\u001b[0m \u001b[1m1s\u001b[0m 1ms/step - accuracy: 0.9554 - loss: 0.1815\n",
      "\u001b[1m945/945\u001b[0m \u001b[32m━━━━━━━━━━━━━━━━━━━━\u001b[0m\u001b[37m\u001b[0m \u001b[1m2s\u001b[0m 2ms/step\n"
     ]
    },
    {
     "name": "stderr",
     "output_type": "stream",
     "text": [
      "2024/10/26 18:42:56 WARNING mlflow.keras.save: You are saving a Keras model without specifying model signature.\n",
      "2024/10/26 18:43:49 WARNING mlflow.models.model: Model logged without a signature and input example. Please set `input_example` parameter when logging the model to auto infer the model signature.\n"
     ]
    },
    {
     "name": "stdout",
     "output_type": "stream",
     "text": [
      "CNN - Fraud - Accuracy: 0.9552989602088928, Precision: 0.9758730158730159, Recall: 0.539298245614035, F1 Score: 0.6946892655367232, ROC-AUC: 0.7701207682560802\n"
     ]
    }
   ],
   "source": [
    "cnn_model = Sequential([\n",
    "    Conv1D(32, 2, activation='relu', input_shape=(X_train_fraud_dl.shape[1], 1)),\n",
    "    Flatten(),\n",
    "    Dense(64, activation='relu'),\n",
    "    Dense(1, activation='sigmoid')\n",
    "])\n",
    "build_and_train_keras_model(cnn_model, \"CNN - Fraud\", X_train_fraud_dl, X_test_fraud_dl, y_train_fraud, y_test_fraud, X_train_fraud_dl.shape[1])"
   ]
  },
  {
   "cell_type": "code",
   "execution_count": 26,
   "metadata": {},
   "outputs": [
    {
     "name": "stderr",
     "output_type": "stream",
     "text": [
      "c:\\Users\\USER\\Documents\\OPLearning\\10_Academy\\Week_8_&_9\\myenv\\Lib\\site-packages\\keras\\src\\layers\\rnn\\rnn.py:204: UserWarning: Do not pass an `input_shape`/`input_dim` argument to a layer. When using Sequential models, prefer using an `Input(shape)` object as the first layer in the model instead.\n",
      "  super().__init__(**kwargs)\n"
     ]
    },
    {
     "name": "stdout",
     "output_type": "stream",
     "text": [
      "Epoch 1/20\n",
      "\u001b[1m3023/3023\u001b[0m \u001b[32m━━━━━━━━━━━━━━━━━━━━\u001b[0m\u001b[37m\u001b[0m \u001b[1m16s\u001b[0m 5ms/step - accuracy: 0.9318 - loss: 0.2326 - val_accuracy: 0.9544 - val_loss: 0.1861\n",
      "Epoch 2/20\n",
      "\u001b[1m3023/3023\u001b[0m \u001b[32m━━━━━━━━━━━━━━━━━━━━\u001b[0m\u001b[37m\u001b[0m \u001b[1m14s\u001b[0m 5ms/step - accuracy: 0.9539 - loss: 0.1859 - val_accuracy: 0.9550 - val_loss: 0.1833\n",
      "Epoch 3/20\n",
      "\u001b[1m3023/3023\u001b[0m \u001b[32m━━━━━━━━━━━━━━━━━━━━\u001b[0m\u001b[37m\u001b[0m \u001b[1m14s\u001b[0m 4ms/step - accuracy: 0.9560 - loss: 0.1801 - val_accuracy: 0.9551 - val_loss: 0.1817\n",
      "Epoch 4/20\n",
      "\u001b[1m3023/3023\u001b[0m \u001b[32m━━━━━━━━━━━━━━━━━━━━\u001b[0m\u001b[37m\u001b[0m \u001b[1m14s\u001b[0m 5ms/step - accuracy: 0.9554 - loss: 0.1815 - val_accuracy: 0.9557 - val_loss: 0.1810\n",
      "Epoch 5/20\n",
      "\u001b[1m3023/3023\u001b[0m \u001b[32m━━━━━━━━━━━━━━━━━━━━\u001b[0m\u001b[37m\u001b[0m \u001b[1m14s\u001b[0m 5ms/step - accuracy: 0.9563 - loss: 0.1787 - val_accuracy: 0.9549 - val_loss: 0.1890\n",
      "Epoch 6/20\n",
      "\u001b[1m3023/3023\u001b[0m \u001b[32m━━━━━━━━━━━━━━━━━━━━\u001b[0m\u001b[37m\u001b[0m \u001b[1m14s\u001b[0m 4ms/step - accuracy: 0.9564 - loss: 0.1783 - val_accuracy: 0.9554 - val_loss: 0.1825\n",
      "Epoch 7/20\n",
      "\u001b[1m3023/3023\u001b[0m \u001b[32m━━━━━━━━━━━━━━━━━━━━\u001b[0m\u001b[37m\u001b[0m \u001b[1m14s\u001b[0m 5ms/step - accuracy: 0.9562 - loss: 0.1783 - val_accuracy: 0.9557 - val_loss: 0.1827\n",
      "\u001b[1m945/945\u001b[0m \u001b[32m━━━━━━━━━━━━━━━━━━━━\u001b[0m\u001b[37m\u001b[0m \u001b[1m2s\u001b[0m 2ms/step - accuracy: 0.9561 - loss: 0.1810\n",
      "\u001b[1m945/945\u001b[0m \u001b[32m━━━━━━━━━━━━━━━━━━━━\u001b[0m\u001b[37m\u001b[0m \u001b[1m2s\u001b[0m 2ms/step\n"
     ]
    },
    {
     "name": "stderr",
     "output_type": "stream",
     "text": [
      "2024/10/26 18:45:33 WARNING mlflow.keras.save: You are saving a Keras model without specifying model signature.\n",
      "2024/10/26 18:45:40 WARNING mlflow.models.model: Model logged without a signature and input example. Please set `input_example` parameter when logging the model to auto infer the model signature.\n"
     ]
    },
    {
     "name": "stdout",
     "output_type": "stream",
     "text": [
      "LSTM - Fraud - Accuracy: 0.9559937715530396, Precision: 0.9896907216494846, Recall: 0.5389473684210526, F1 Score: 0.6978646069968196, ROC-AUC: 0.7702159254124791\n"
     ]
    }
   ],
   "source": [
    "lstm_model = Sequential([\n",
    "    LSTM(32, input_shape=(X_train_fraud_dl.shape[1], 1)),\n",
    "    Dense(64, activation='relu'),\n",
    "    Dense(1, activation='sigmoid')\n",
    "])\n",
    "build_and_train_keras_model(lstm_model, \"LSTM - Fraud\", X_train_fraud_dl, X_test_fraud_dl, y_train_fraud, y_test_fraud, X_train_fraud_dl.shape[1])"
   ]
  },
  {
   "cell_type": "code",
   "execution_count": 27,
   "metadata": {},
   "outputs": [
    {
     "name": "stdout",
     "output_type": "stream",
     "text": [
      "Epoch 1/20\n"
     ]
    },
    {
     "name": "stderr",
     "output_type": "stream",
     "text": [
      "c:\\Users\\USER\\Documents\\OPLearning\\10_Academy\\Week_8_&_9\\myenv\\Lib\\site-packages\\keras\\src\\layers\\convolutional\\base_conv.py:107: UserWarning: Do not pass an `input_shape`/`input_dim` argument to a layer. When using Sequential models, prefer using an `Input(shape)` object as the first layer in the model instead.\n",
      "  super().__init__(activity_regularizer=activity_regularizer, **kwargs)\n"
     ]
    },
    {
     "name": "stdout",
     "output_type": "stream",
     "text": [
      "\u001b[1m5675/5675\u001b[0m \u001b[32m━━━━━━━━━━━━━━━━━━━━\u001b[0m\u001b[37m\u001b[0m \u001b[1m19s\u001b[0m 3ms/step - accuracy: 0.9989 - loss: 0.0098 - val_accuracy: 0.9992 - val_loss: 0.0040\n",
      "Epoch 2/20\n",
      "\u001b[1m5675/5675\u001b[0m \u001b[32m━━━━━━━━━━━━━━━━━━━━\u001b[0m\u001b[37m\u001b[0m \u001b[1m16s\u001b[0m 3ms/step - accuracy: 0.9993 - loss: 0.0036 - val_accuracy: 0.9993 - val_loss: 0.0038\n",
      "Epoch 3/20\n",
      "\u001b[1m5675/5675\u001b[0m \u001b[32m━━━━━━━━━━━━━━━━━━━━\u001b[0m\u001b[37m\u001b[0m \u001b[1m16s\u001b[0m 3ms/step - accuracy: 0.9994 - loss: 0.0034 - val_accuracy: 0.9991 - val_loss: 0.0049\n",
      "Epoch 4/20\n",
      "\u001b[1m5675/5675\u001b[0m \u001b[32m━━━━━━━━━━━━━━━━━━━━\u001b[0m\u001b[37m\u001b[0m \u001b[1m18s\u001b[0m 3ms/step - accuracy: 0.9994 - loss: 0.0031 - val_accuracy: 0.9992 - val_loss: 0.0041\n",
      "Epoch 5/20\n",
      "\u001b[1m5675/5675\u001b[0m \u001b[32m━━━━━━━━━━━━━━━━━━━━\u001b[0m\u001b[37m\u001b[0m \u001b[1m16s\u001b[0m 3ms/step - accuracy: 0.9993 - loss: 0.0028 - val_accuracy: 0.9993 - val_loss: 0.0035\n",
      "Epoch 6/20\n",
      "\u001b[1m5675/5675\u001b[0m \u001b[32m━━━━━━━━━━━━━━━━━━━━\u001b[0m\u001b[37m\u001b[0m \u001b[1m17s\u001b[0m 3ms/step - accuracy: 0.9994 - loss: 0.0028 - val_accuracy: 0.9993 - val_loss: 0.0038\n",
      "Epoch 7/20\n",
      "\u001b[1m5675/5675\u001b[0m \u001b[32m━━━━━━━━━━━━━━━━━━━━\u001b[0m\u001b[37m\u001b[0m \u001b[1m17s\u001b[0m 3ms/step - accuracy: 0.9995 - loss: 0.0026 - val_accuracy: 0.9993 - val_loss: 0.0040\n",
      "Epoch 8/20\n",
      "\u001b[1m5675/5675\u001b[0m \u001b[32m━━━━━━━━━━━━━━━━━━━━\u001b[0m\u001b[37m\u001b[0m \u001b[1m16s\u001b[0m 3ms/step - accuracy: 0.9994 - loss: 0.0029 - val_accuracy: 0.9994 - val_loss: 0.0039\n",
      "\u001b[1m1774/1774\u001b[0m \u001b[32m━━━━━━━━━━━━━━━━━━━━\u001b[0m\u001b[37m\u001b[0m \u001b[1m3s\u001b[0m 2ms/step - accuracy: 0.9996 - loss: 0.0034\n",
      "\u001b[1m1774/1774\u001b[0m \u001b[32m━━━━━━━━━━━━━━━━━━━━\u001b[0m\u001b[37m\u001b[0m \u001b[1m4s\u001b[0m 2ms/step\n"
     ]
    },
    {
     "name": "stderr",
     "output_type": "stream",
     "text": [
      "2024/10/26 18:48:02 WARNING mlflow.keras.save: You are saving a Keras model without specifying model signature.\n",
      "2024/10/26 18:48:09 WARNING mlflow.models.model: Model logged without a signature and input example. Please set `input_example` parameter when logging the model to auto infer the model signature.\n"
     ]
    },
    {
     "name": "stdout",
     "output_type": "stream",
     "text": [
      "CNN - Credit - Accuracy: 0.9995594620704651, Precision: 0.9710144927536232, Recall: 0.7444444444444445, F1 Score: 0.8427672955974843, ROC-AUC: 0.9526355941510558\n"
     ]
    }
   ],
   "source": [
    "def create_cnn_model(input_shape):\n",
    "    model = Sequential()\n",
    "    model.add(Conv1D(filters=64, kernel_size=3, activation='relu', input_shape=input_shape))\n",
    "    model.add(MaxPooling1D(pool_size=2))\n",
    "    model.add(Flatten())\n",
    "    model.add(Dense(100, activation='relu'))\n",
    "    model.add(Dense(1, activation='sigmoid'))\n",
    "    return model\n",
    "input_shape_cnn = (X_train_credit_dl.shape[1], X_train_credit_dl.shape[2])\n",
    "cnn_model = create_cnn_model(input_shape_cnn)\n",
    "\n",
    "build_and_train_keras_model(cnn_model, \"CNN - Credit\", X_train_credit_dl, X_test_credit_dl, y_train_credit, y_test_credit, input_shape_cnn)\n"
   ]
  },
  {
   "cell_type": "code",
   "execution_count": 28,
   "metadata": {},
   "outputs": [
    {
     "name": "stderr",
     "output_type": "stream",
     "text": [
      "c:\\Users\\USER\\Documents\\OPLearning\\10_Academy\\Week_8_&_9\\myenv\\Lib\\site-packages\\keras\\src\\layers\\rnn\\rnn.py:204: UserWarning: Do not pass an `input_shape`/`input_dim` argument to a layer. When using Sequential models, prefer using an `Input(shape)` object as the first layer in the model instead.\n",
      "  super().__init__(**kwargs)\n"
     ]
    },
    {
     "name": "stdout",
     "output_type": "stream",
     "text": [
      "Epoch 1/20\n",
      "\u001b[1m5675/5675\u001b[0m \u001b[32m━━━━━━━━━━━━━━━━━━━━\u001b[0m\u001b[37m\u001b[0m \u001b[1m73s\u001b[0m 13ms/step - accuracy: 0.9983 - loss: 14.7100 - val_accuracy: 0.9981 - val_loss: 0.0117\n",
      "Epoch 2/20\n",
      "\u001b[1m5675/5675\u001b[0m \u001b[32m━━━━━━━━━━━━━━━━━━━━\u001b[0m\u001b[37m\u001b[0m \u001b[1m72s\u001b[0m 13ms/step - accuracy: 0.9984 - loss: 0.0125 - val_accuracy: 0.9981 - val_loss: 0.0077\n",
      "Epoch 3/20\n",
      "\u001b[1m5675/5675\u001b[0m \u001b[32m━━━━━━━━━━━━━━━━━━━━\u001b[0m\u001b[37m\u001b[0m \u001b[1m72s\u001b[0m 13ms/step - accuracy: 0.9984 - loss: 0.0501 - val_accuracy: 0.9983 - val_loss: 0.0071\n",
      "Epoch 4/20\n",
      "\u001b[1m5675/5675\u001b[0m \u001b[32m━━━━━━━━━━━━━━━━━━━━\u001b[0m\u001b[37m\u001b[0m \u001b[1m69s\u001b[0m 12ms/step - accuracy: 0.9986 - loss: 0.0057 - val_accuracy: 0.9985 - val_loss: 0.0050\n",
      "Epoch 5/20\n",
      "\u001b[1m5675/5675\u001b[0m \u001b[32m━━━━━━━━━━━━━━━━━━━━\u001b[0m\u001b[37m\u001b[0m \u001b[1m71s\u001b[0m 12ms/step - accuracy: 0.9989 - loss: 0.0055 - val_accuracy: 0.9992 - val_loss: 0.0046\n",
      "Epoch 6/20\n",
      "\u001b[1m5675/5675\u001b[0m \u001b[32m━━━━━━━━━━━━━━━━━━━━\u001b[0m\u001b[37m\u001b[0m \u001b[1m69s\u001b[0m 12ms/step - accuracy: 0.9992 - loss: 0.0044 - val_accuracy: 0.9992 - val_loss: 0.0043\n",
      "Epoch 7/20\n",
      "\u001b[1m5675/5675\u001b[0m \u001b[32m━━━━━━━━━━━━━━━━━━━━\u001b[0m\u001b[37m\u001b[0m \u001b[1m69s\u001b[0m 12ms/step - accuracy: 0.9988 - loss: 97.4539 - val_accuracy: 0.9985 - val_loss: 0.0072\n",
      "Epoch 8/20\n",
      "\u001b[1m5675/5675\u001b[0m \u001b[32m━━━━━━━━━━━━━━━━━━━━\u001b[0m\u001b[37m\u001b[0m \u001b[1m70s\u001b[0m 12ms/step - accuracy: 0.9985 - loss: 0.0061 - val_accuracy: 0.9990 - val_loss: 0.0056\n",
      "Epoch 9/20\n",
      "\u001b[1m5675/5675\u001b[0m \u001b[32m━━━━━━━━━━━━━━━━━━━━\u001b[0m\u001b[37m\u001b[0m \u001b[1m73s\u001b[0m 13ms/step - accuracy: 0.9987 - loss: 0.1434 - val_accuracy: 0.9981 - val_loss: 0.0088\n",
      "\u001b[1m1774/1774\u001b[0m \u001b[32m━━━━━━━━━━━━━━━━━━━━\u001b[0m\u001b[37m\u001b[0m \u001b[1m8s\u001b[0m 5ms/step - accuracy: 0.9985 - loss: 0.0066\n",
      "\u001b[1m1774/1774\u001b[0m \u001b[32m━━━━━━━━━━━━━━━━━━━━\u001b[0m\u001b[37m\u001b[0m \u001b[1m9s\u001b[0m 5ms/step\n"
     ]
    },
    {
     "name": "stderr",
     "output_type": "stream",
     "text": [
      "2024/10/26 18:59:05 WARNING mlflow.keras.save: You are saving a Keras model without specifying model signature.\n",
      "2024/10/26 18:59:12 WARNING mlflow.models.model: Model logged without a signature and input example. Please set `input_example` parameter when logging the model to auto infer the model signature.\n"
     ]
    },
    {
     "name": "stdout",
     "output_type": "stream",
     "text": [
      "LSTM - Credit - Accuracy: 0.9984844923019409, Precision: 0.75, Recall: 0.06666666666666667, F1 Score: 0.12244897959183673, ROC-AUC: 0.8821164376039412\n"
     ]
    }
   ],
   "source": [
    "def create_lstm_model(input_shape):\n",
    "    model = Sequential()\n",
    "    model.add(LSTM(100, activation='relu', input_shape=input_shape))\n",
    "    model.add(Dense(1, activation='sigmoid'))\n",
    "    return model\n",
    "\n",
    "input_shape_lstm = (X_train_credit_dl.shape[1], X_train_credit_dl.shape[2])\n",
    "lstm_model = create_lstm_model(input_shape_lstm)\n",
    "\n",
    "build_and_train_keras_model(lstm_model, \"LSTM - Credit\", X_train_credit_dl, X_test_credit_dl, y_train_credit, y_test_credit, input_shape_lstm)\n"
   ]
  },
  {
   "cell_type": "code",
   "execution_count": 29,
   "metadata": {},
   "outputs": [
    {
     "name": "stderr",
     "output_type": "stream",
     "text": [
      "c:\\Users\\USER\\Documents\\OPLearning\\10_Academy\\Week_8_&_9\\myenv\\Lib\\site-packages\\keras\\src\\layers\\rnn\\rnn.py:204: UserWarning: Do not pass an `input_shape`/`input_dim` argument to a layer. When using Sequential models, prefer using an `Input(shape)` object as the first layer in the model instead.\n",
      "  super().__init__(**kwargs)\n"
     ]
    },
    {
     "name": "stdout",
     "output_type": "stream",
     "text": [
      "Epoch 1/20\n",
      "\u001b[1m5675/5675\u001b[0m \u001b[32m━━━━━━━━━━━━━━━━━━━━\u001b[0m\u001b[37m\u001b[0m \u001b[1m30s\u001b[0m 5ms/step - accuracy: 0.9983 - loss: 0.0180 - val_accuracy: 0.9986 - val_loss: 0.0067\n",
      "Epoch 2/20\n",
      "\u001b[1m5675/5675\u001b[0m \u001b[32m━━━━━━━━━━━━━━━━━━━━\u001b[0m\u001b[37m\u001b[0m \u001b[1m30s\u001b[0m 5ms/step - accuracy: 0.9988 - loss: 0.0081 - val_accuracy: 0.9962 - val_loss: 0.0136\n",
      "Epoch 3/20\n",
      "\u001b[1m5675/5675\u001b[0m \u001b[32m━━━━━━━━━━━━━━━━━━━━\u001b[0m\u001b[37m\u001b[0m \u001b[1m30s\u001b[0m 5ms/step - accuracy: 0.9989 - loss: 0.0056 - val_accuracy: 0.9990 - val_loss: 0.0050\n",
      "Epoch 4/20\n",
      "\u001b[1m5675/5675\u001b[0m \u001b[32m━━━━━━━━━━━━━━━━━━━━\u001b[0m\u001b[37m\u001b[0m \u001b[1m29s\u001b[0m 5ms/step - accuracy: 0.9991 - loss: 0.0057 - val_accuracy: 0.9983 - val_loss: 0.0072\n",
      "Epoch 5/20\n",
      "\u001b[1m5675/5675\u001b[0m \u001b[32m━━━━━━━━━━━━━━━━━━━━\u001b[0m\u001b[37m\u001b[0m \u001b[1m31s\u001b[0m 5ms/step - accuracy: 0.9988 - loss: 0.0082 - val_accuracy: 0.9985 - val_loss: 0.0095\n",
      "Epoch 6/20\n",
      "\u001b[1m5675/5675\u001b[0m \u001b[32m━━━━━━━━━━━━━━━━━━━━\u001b[0m\u001b[37m\u001b[0m \u001b[1m31s\u001b[0m 5ms/step - accuracy: 0.9989 - loss: 0.0069 - val_accuracy: 0.9990 - val_loss: 0.0063\n",
      "\u001b[1m1774/1774\u001b[0m \u001b[32m━━━━━━━━━━━━━━━━━━━━\u001b[0m\u001b[37m\u001b[0m \u001b[1m4s\u001b[0m 2ms/step - accuracy: 0.9993 - loss: 0.0054\n",
      "\u001b[1m1774/1774\u001b[0m \u001b[32m━━━━━━━━━━━━━━━━━━━━\u001b[0m\u001b[37m\u001b[0m \u001b[1m5s\u001b[0m 3ms/step\n"
     ]
    },
    {
     "name": "stderr",
     "output_type": "stream",
     "text": [
      "2024/10/26 19:02:22 WARNING mlflow.keras.save: You are saving a Keras model without specifying model signature.\n",
      "2024/10/26 19:02:29 WARNING mlflow.models.model: Model logged without a signature and input example. Please set `input_example` parameter when logging the model to auto infer the model signature.\n"
     ]
    },
    {
     "name": "stdout",
     "output_type": "stream",
     "text": [
      "RNN - Credit - Accuracy: 0.9991717338562012, Precision: 0.9056603773584906, Recall: 0.5333333333333333, F1 Score: 0.6713286713286714, ROC-AUC: 0.8517909253506541\n"
     ]
    }
   ],
   "source": [
    "from keras.models import Sequential\n",
    "from keras.layers import SimpleRNN, Dense\n",
    "\n",
    "def create_rnn_model(input_shape):\n",
    "    model = Sequential()\n",
    "    model.add(SimpleRNN(100, activation='relu', input_shape=input_shape))\n",
    "    model.add(Dense(1, activation='sigmoid'))\n",
    "    return model\n",
    "\n",
    "input_shape_rnn = (X_train_credit_dl.shape[1], X_train_credit_dl.shape[2])\n",
    "rnn_model = create_rnn_model(input_shape_rnn)\n",
    "\n",
    "build_and_train_keras_model(rnn_model, \"RNN - Credit\", X_train_credit_dl, X_test_credit_dl, y_train_credit, y_test_credit, input_shape_rnn)\n"
   ]
  },
  {
   "cell_type": "code",
   "execution_count": 30,
   "metadata": {},
   "outputs": [
    {
     "name": "stdout",
     "output_type": "stream",
     "text": [
      "Epoch 1/20\n",
      "\u001b[1m3023/3023\u001b[0m \u001b[32m━━━━━━━━━━━━━━━━━━━━\u001b[0m\u001b[37m\u001b[0m \u001b[1m12s\u001b[0m 3ms/step - accuracy: 0.8549 - loss: 128.0201 - val_accuracy: 0.9155 - val_loss: 43.4783\n",
      "Epoch 2/20\n",
      "\u001b[1m3023/3023\u001b[0m \u001b[32m━━━━━━━━━━━━━━━━━━━━\u001b[0m\u001b[37m\u001b[0m \u001b[1m10s\u001b[0m 3ms/step - accuracy: 0.8956 - loss: 29.1584 - val_accuracy: 0.9335 - val_loss: 38.9487\n",
      "Epoch 3/20\n",
      "\u001b[1m3023/3023\u001b[0m \u001b[32m━━━━━━━━━━━━━━━━━━━━\u001b[0m\u001b[37m\u001b[0m \u001b[1m11s\u001b[0m 4ms/step - accuracy: 0.9113 - loss: 30.3504 - val_accuracy: 0.9497 - val_loss: 26.8358\n",
      "Epoch 4/20\n",
      "\u001b[1m3023/3023\u001b[0m \u001b[32m━━━━━━━━━━━━━━━━━━━━\u001b[0m\u001b[37m\u001b[0m \u001b[1m10s\u001b[0m 3ms/step - accuracy: 0.9125 - loss: 31.5828 - val_accuracy: 0.9507 - val_loss: 5.9510\n",
      "Epoch 5/20\n",
      "\u001b[1m3023/3023\u001b[0m \u001b[32m━━━━━━━━━━━━━━━━━━━━\u001b[0m\u001b[37m\u001b[0m \u001b[1m10s\u001b[0m 3ms/step - accuracy: 0.9108 - loss: 32.6909 - val_accuracy: 0.9547 - val_loss: 22.7607\n",
      "Epoch 6/20\n",
      "\u001b[1m3023/3023\u001b[0m \u001b[32m━━━━━━━━━━━━━━━━━━━━\u001b[0m\u001b[37m\u001b[0m \u001b[1m11s\u001b[0m 3ms/step - accuracy: 0.9129 - loss: 29.6688 - val_accuracy: 0.9538 - val_loss: 24.5178\n",
      "Epoch 7/20\n",
      "\u001b[1m3023/3023\u001b[0m \u001b[32m━━━━━━━━━━━━━━━━━━━━\u001b[0m\u001b[37m\u001b[0m \u001b[1m11s\u001b[0m 4ms/step - accuracy: 0.9137 - loss: 30.3896 - val_accuracy: 0.9535 - val_loss: 14.1955\n",
      "\u001b[1m945/945\u001b[0m \u001b[32m━━━━━━━━━━━━━━━━━━━━\u001b[0m\u001b[37m\u001b[0m \u001b[1m2s\u001b[0m 2ms/step - accuracy: 0.9530 - loss: 13.8261\n",
      "\u001b[1m945/945\u001b[0m \u001b[32m━━━━━━━━━━━━━━━━━━━━\u001b[0m\u001b[37m\u001b[0m \u001b[1m2s\u001b[0m 2ms/step\n"
     ]
    },
    {
     "name": "stderr",
     "output_type": "stream",
     "text": [
      "2024/10/26 19:03:48 WARNING mlflow.keras.save: You are saving a Keras model without specifying model signature.\n",
      "2024/10/26 19:03:54 WARNING mlflow.models.model: Model logged without a signature and input example. Please set `input_example` parameter when logging the model to auto infer the model signature.\n"
     ]
    },
    {
     "name": "stdout",
     "output_type": "stream",
     "text": [
      "RNN - Fraud - Accuracy: 0.9535784125328064, Precision: 0.9441375076734193, Recall: 0.5396491228070175, F1 Score: 0.686760437597678, ROC-AUC: 0.7680152359124531\n"
     ]
    }
   ],
   "source": [
    "build_and_train_keras_model(rnn_model, \"RNN - Fraud\", X_train_fraud_dl, X_test_fraud_dl, y_train_fraud, y_test_fraud, input_shape_rnn)"
   ]
  },
  {
   "cell_type": "markdown",
   "metadata": {},
   "source": [
    "Task-3: Model Explainability "
   ]
  },
  {
   "cell_type": "code",
   "execution_count": 31,
   "metadata": {},
   "outputs": [
    {
     "name": "stderr",
     "output_type": "stream",
     "text": [
      "c:\\Users\\USER\\Documents\\OPLearning\\10_Academy\\Week_8_&_9\\myenv\\Lib\\site-packages\\tqdm\\auto.py:21: TqdmWarning: IProgress not found. Please update jupyter and ipywidgets. See https://ipywidgets.readthedocs.io/en/stable/user_install.html\n",
      "  from .autonotebook import tqdm as notebook_tqdm\n"
     ]
    },
    {
     "data": {
      "image/png": "[encoded data removed]",
      "text/plain": [
       "<Figure size 1150x660 with 2 Axes>"
      ]
     },
     "metadata": {},
     "output_type": "display_data"
    }
   ],
   "source": [
    "import shap\n",
    "import pandas as pd\n",
    "import pickle\n",
    "\n",
    "with open(r'C:\\Users\\USER\\Documents\\OPLearning\\10_Academy\\Week_8_&_9\\mlruns\\262221609415836645\\71d97f3edb874d09a1a8f3bbd4d3da2a\\artifacts\\Decision Tree - Credit\\model.pkl', 'rb') as f:\n",
    "    model = pickle.load(f)\n",
    "\n",
    "explainer = shap.TreeExplainer(model)\n",
    "shap_values = explainer.shap_values(X_train_credit)\n",
    "\n",
    "shap.summary_plot(shap_values, X_train_credit)\n"
   ]
  }
 ],
 "metadata": {
  "kernelspec": {
   "display_name": "myenv",
   "language": "python",
   "name": "python3"
  },
  "language_info": {
   "codemirror_mode": {
    "name": "ipython",
    "version": 3
   },
   "file_extension": ".py",
   "mimetype": "text/x-python",
   "name": "python",
   "nbconvert_exporter": "python",
   "pygments_lexer": "ipython3",
   "version": "3.11.2"
  }
 },
 "nbformat": 4,
 "nbformat_minor": 2
}
