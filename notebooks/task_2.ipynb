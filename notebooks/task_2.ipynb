{
 "cells": [
  {
   "cell_type": "markdown",
   "metadata": {},
   "source": [
    "Step 1: Data Cleaning and Saving Cleaned Versions"
   ]
  },
  {
   "cell_type": "code",
   "execution_count": 1,
   "metadata": {},
   "outputs": [],
   "source": [
    "import pandas as pd\n",
    "import numpy as np\n",
    "\n",
    "creditcard_df = pd.read_csv('../data/creditcard.csv')\n",
    "fraud_data_df = pd.read_csv('../data/Fraud_Data.csv')"
   ]
  },
  {
   "cell_type": "code",
   "execution_count": 2,
   "metadata": {},
   "outputs": [],
   "source": [
    "creditcard_df.drop_duplicates(inplace=True)"
   ]
  },
  {
   "cell_type": "code",
   "execution_count": 3,
   "metadata": {},
   "outputs": [],
   "source": [
    "creditcard_df['Time'] = pd.to_datetime(creditcard_df['Time'], unit='s', origin='2010-01-01')"
   ]
  },
  {
   "cell_type": "code",
   "execution_count": 4,
   "metadata": {},
   "outputs": [],
   "source": [
    "creditcard_df.to_csv('../data/cleaned_creditcard.csv', index=False)"
   ]
  },
  {
   "cell_type": "code",
   "execution_count": 5,
   "metadata": {},
   "outputs": [],
   "source": [
    "fraud_data_df.drop_duplicates(inplace=True)"
   ]
  },
  {
   "cell_type": "code",
   "execution_count": 6,
   "metadata": {},
   "outputs": [],
   "source": [
    "fraud_data_df['signup_time'] = pd.to_datetime(fraud_data_df['signup_time'])\n",
    "fraud_data_df['purchase_time'] = pd.to_datetime(fraud_data_df['purchase_time'])"
   ]
  },
  {
   "cell_type": "code",
   "execution_count": 7,
   "metadata": {},
   "outputs": [],
   "source": [
    "fraud_data_df.to_csv('../data/cleaned_fraud_data.csv', index=False)"
   ]
  },
  {
   "cell_type": "code",
   "execution_count": 8,
   "metadata": {},
   "outputs": [],
   "source": [
    "fraud_data_df['signup_time'] = pd.to_datetime(fraud_data_df['signup_time'])\n",
    "fraud_data_df['purchase_time'] = pd.to_datetime(fraud_data_df['purchase_time'])\n",
    "fraud_data_df['signup_month'] = fraud_data_df['signup_time'].dt.month\n",
    "fraud_data_df['signup_day'] = fraud_data_df['signup_time'].dt.day\n",
    "fraud_data_df['purchase_month'] = fraud_data_df['purchase_time'].dt.month\n",
    "fraud_data_df['purchase_day'] = fraud_data_df['purchase_time'].dt.day\n",
    "fraud_data_df['purchase_hour'] = fraud_data_df['purchase_time'].dt.hour\n",
    "fraud_data_df['time_diff'] = (fraud_data_df['purchase_time'] - fraud_data_df['signup_time']).dt.total_seconds() / 3600"
   ]
  },
  {
   "cell_type": "code",
   "execution_count": 9,
   "metadata": {},
   "outputs": [],
   "source": [
    "fraud_data_df.drop(['signup_time', 'purchase_time'], axis=1, inplace=True)"
   ]
  },
  {
   "cell_type": "code",
   "execution_count": 10,
   "metadata": {},
   "outputs": [],
   "source": [
    "from sklearn.preprocessing import LabelEncoder\n",
    "le = LabelEncoder()\n",
    "\n",
    "fraud_data_df['device_id_encoded'] = le.fit_transform(fraud_data_df['device_id'])\n",
    "\n",
    "fraud_data_df = fraud_data_df.drop(['device_id'], axis=1)"
   ]
  },
  {
   "cell_type": "code",
   "execution_count": 11,
   "metadata": {},
   "outputs": [],
   "source": [
    "creditcard_df['Time'] = pd.to_datetime(creditcard_df['Time'], unit='s', origin='unix')\n",
    "creditcard_df['transaction_hour'] = creditcard_df['Time'].dt.hour\n",
    "creditcard_df['transaction_day'] = creditcard_df['Time'].dt.day\n",
    "creditcard_df['transaction_month'] = creditcard_df['Time'].dt.month"
   ]
  },
  {
   "cell_type": "code",
   "execution_count": 12,
   "metadata": {},
   "outputs": [],
   "source": [
    "creditcard_df.drop(['Time'], axis=1, inplace=True)"
   ]
  },
  {
   "cell_type": "code",
   "execution_count": 13,
   "metadata": {},
   "outputs": [],
   "source": [
    "from sklearn.preprocessing import StandardScaler, MinMaxScaler, LabelEncoder, OneHotEncoder\n",
    "label_encoder = LabelEncoder()\n",
    "fraud_data_df['source'] = label_encoder.fit_transform(fraud_data_df['source'])\n",
    "fraud_data_df['browser'] = label_encoder.fit_transform(fraud_data_df['browser'])\n",
    "fraud_data_df['sex'] = label_encoder.fit_transform(fraud_data_df['sex'])"
   ]
  },
  {
   "cell_type": "code",
   "execution_count": 14,
   "metadata": {},
   "outputs": [],
   "source": [
    "scaler = StandardScaler()\n",
    "\n",
    "numerical_columns_fraud = fraud_data_df.select_dtypes(include=['int64', 'float64']).columns.difference(['class'])\n",
    "fraud_data_df[numerical_columns_fraud] = scaler.fit_transform(fraud_data_df[numerical_columns_fraud])"
   ]
  },
  {
   "cell_type": "code",
   "execution_count": 15,
   "metadata": {},
   "outputs": [],
   "source": [
    "numerical_columns_credit = creditcard_df.select_dtypes(include=['int64', 'float64']).columns.difference(['Class'])\n",
    "creditcard_df[numerical_columns_credit] = scaler.fit_transform(creditcard_df[numerical_columns_credit])"
   ]
  },
  {
   "cell_type": "markdown",
   "metadata": {},
   "source": [
    "Feature and Target Separation"
   ]
  },
  {
   "cell_type": "code",
   "execution_count": 16,
   "metadata": {},
   "outputs": [],
   "source": [
    "X_fraud = fraud_data_df.drop('class', axis=1)\n",
    "y_fraud = fraud_data_df['class']\n",
    "\n",
    "X_credit = creditcard_df.drop('Class', axis=1)\n",
    "y_credit = creditcard_df['Class']"
   ]
  },
  {
   "cell_type": "markdown",
   "metadata": {},
   "source": [
    "Train-Test Split"
   ]
  },
  {
   "cell_type": "code",
   "execution_count": 17,
   "metadata": {},
   "outputs": [],
   "source": [
    "from sklearn.model_selection import train_test_split\n",
    "\n",
    "X_train_credit, X_test_credit, y_train_credit, y_test_credit = train_test_split(X_credit, y_credit, test_size=0.2, random_state=42)\n",
    "\n",
    "X_train_fraud, X_test_fraud, y_train_fraud, y_test_fraud = train_test_split(X_fraud, y_fraud, test_size=0.2, random_state=42)\n"
   ]
  },
  {
   "cell_type": "code",
   "execution_count": 18,
   "metadata": {},
   "outputs": [
    {
     "name": "stdout",
     "output_type": "stream",
     "text": [
      "Preprocessing complete! Data is ready for training.\n"
     ]
    }
   ],
   "source": [
    "X_train_fraud.to_csv('../data/X_train_fraud.csv', index=False)\n",
    "X_test_fraud.to_csv('../data/X_test_fraud.csv', index=False)\n",
    "y_train_fraud.to_csv('../data/y_train_fraud.csv', index=False)\n",
    "y_test_fraud.to_csv('../data/y_test_fraud.csv', index=False)\n",
    "\n",
    "X_train_credit.to_csv('../data/X_train_credit.csv', index=False)\n",
    "X_test_credit.to_csv('../data/X_test_credit.csv', index=False)\n",
    "y_train_credit.to_csv('../data/y_train_credit.csv', index=False)\n",
    "y_test_credit.to_csv('../data/y_test_credit.csv', index=False)\n",
    "\n",
    "print(\"Preprocessing complete! Data is ready for training.\")"
   ]
  },
  {
   "cell_type": "markdown",
   "metadata": {},
   "source": [
    "Step 2: Model Selection"
   ]
  },
  {
   "cell_type": "code",
   "execution_count": 23,
   "metadata": {},
   "outputs": [],
   "source": [
    "import mlflow\n",
    "import mlflow.sklearn\n",
    "from sklearn.linear_model import LogisticRegression\n",
    "from sklearn.tree import DecisionTreeClassifier\n",
    "from sklearn.ensemble import RandomForestClassifier, GradientBoostingClassifier\n",
    "from sklearn.neural_network import MLPClassifier\n",
    "from sklearn.metrics import accuracy_score, precision_score, recall_score, f1_score, roc_auc_score\n",
    "from keras.models import Sequential\n",
    "from keras.layers import Dense, LSTM, Conv1D, MaxPooling1D, Flatten\n",
    "from keras.utils import to_categorical\n",
    "\n",
    "def train_and_evaluate_model(model, model_name, X_train, X_test, y_train, y_test):\n",
    "    with mlflow.start_run(run_name=model_name):\n",
    "        model.fit(X_train, y_train)\n",
    "        y_pred = model.predict(X_test)\n",
    "        y_proba = model.predict_proba(X_test)[:, 1] if hasattr(model, \"predict_proba\") else None\n",
    "        \n",
    "        accuracy = accuracy_score(y_test, y_pred)\n",
    "        precision = precision_score(y_test, y_pred)\n",
    "        recall = recall_score(y_test, y_pred)\n",
    "        f1 = f1_score(y_test, y_pred)\n",
    "        roc_auc = roc_auc_score(y_test, y_proba) if y_proba is not None else float('nan')\n",
    "        \n",
    "        mlflow.log_params(model.get_params())\n",
    "        mlflow.log_metrics({\n",
    "            \"accuracy\": accuracy,\n",
    "            \"precision\": precision,\n",
    "            \"recall\": recall,\n",
    "            \"f1_score\": f1,\n",
    "            \"roc_auc\": roc_auc\n",
    "        })\n",
    "        \n",
    "        mlflow.sklearn.log_model(model, model_name)\n",
    "        \n",
    "        print(f\"{model_name} - Accuracy: {accuracy}, Precision: {precision}, Recall: {recall}, F1 Score: {f1}, ROC-AUC: {roc_auc}\")"
   ]
  },
  {
   "cell_type": "code",
   "execution_count": 24,
   "metadata": {},
   "outputs": [],
   "source": [
    "models = {\n",
    "    \"Logistic Regression\": LogisticRegression(max_iter=1000),\n",
    "    \"Decision Tree\": DecisionTreeClassifier(),\n",
    "    \"Random Forest\": RandomForestClassifier(n_estimators=100),\n",
    "    \"Gradient Boosting\": GradientBoostingClassifier(),\n",
    "    \"MLP Classifier\": MLPClassifier(hidden_layer_sizes=(100, 50), max_iter=500)\n",
    "}"
   ]
  },
  {
   "cell_type": "code",
   "execution_count": 25,
   "metadata": {},
   "outputs": [
    {
     "name": "stdout",
     "output_type": "stream",
     "text": [
      "\n",
      "Training models on credit card data...\n"
     ]
    },
    {
     "name": "stderr",
     "output_type": "stream",
     "text": [
      "2024/10/22 14:32:17 WARNING mlflow.models.model: Model logged without a signature and input example. Please set `input_example` parameter when logging the model to auto infer the model signature.\n"
     ]
    },
    {
     "name": "stdout",
     "output_type": "stream",
     "text": [
      "Logistic Regression - Credit - Accuracy: 0.9992246149508336, Precision: 0.896551724137931, Recall: 0.5777777777777777, F1 Score: 0.7027027027027027, ROC-AUC: 0.9652120791364649\n"
     ]
    },
    {
     "name": "stderr",
     "output_type": "stream",
     "text": [
      "2024/10/22 14:33:06 WARNING mlflow.models.model: Model logged without a signature and input example. Please set `input_example` parameter when logging the model to auto infer the model signature.\n"
     ]
    },
    {
     "name": "stdout",
     "output_type": "stream",
     "text": [
      "Decision Tree - Credit - Accuracy: 0.9991365030134283, Precision: 0.7252747252747253, Recall: 0.7333333333333333, F1 Score: 0.7292817679558011, ROC-AUC: 0.8664460369010637\n"
     ]
    },
    {
     "name": "stderr",
     "output_type": "stream",
     "text": [
      "2024/10/22 14:38:47 WARNING mlflow.models.model: Model logged without a signature and input example. Please set `input_example` parameter when logging the model to auto infer the model signature.\n"
     ]
    },
    {
     "name": "stdout",
     "output_type": "stream",
     "text": [
      "Random Forest - Credit - Accuracy: 0.9995418179254926, Precision: 0.9705882352941176, Recall: 0.7333333333333333, F1 Score: 0.8354430379746836, ROC-AUC: 0.9312538242492705\n"
     ]
    },
    {
     "name": "stderr",
     "output_type": "stream",
     "text": [
      "2024/10/22 14:47:59 WARNING mlflow.models.model: Model logged without a signature and input example. Please set `input_example` parameter when logging the model to auto infer the model signature.\n"
     ]
    },
    {
     "name": "stdout",
     "output_type": "stream",
     "text": [
      "Gradient Boosting - Credit - Accuracy: 0.9993127268882388, Precision: 0.9047619047619048, Recall: 0.6333333333333333, F1 Score: 0.7450980392156863, ROC-AUC: 0.7665101666195988\n"
     ]
    },
    {
     "name": "stderr",
     "output_type": "stream",
     "text": [
      "2024/10/22 14:49:25 WARNING mlflow.models.model: Model logged without a signature and input example. Please set `input_example` parameter when logging the model to auto infer the model signature.\n"
     ]
    },
    {
     "name": "stdout",
     "output_type": "stream",
     "text": [
      "MLP Classifier - Credit - Accuracy: 0.9993479716632009, Precision: 0.9206349206349206, Recall: 0.6444444444444445, F1 Score: 0.7581699346405228, ROC-AUC: 0.9383744783331764\n"
     ]
    }
   ],
   "source": [
    "print(\"\\nTraining models on credit card data...\")\n",
    "for model_name, model in models.items():\n",
    "    train_and_evaluate_model(model, model_name + \" - Credit\", X_train_credit, X_test_credit, y_train_credit, y_test_credit)"
   ]
  },
  {
   "cell_type": "code",
   "execution_count": 26,
   "metadata": {},
   "outputs": [
    {
     "name": "stdout",
     "output_type": "stream",
     "text": [
      "Training models on fraud data...\n"
     ]
    },
    {
     "name": "stderr",
     "output_type": "stream",
     "text": [
      "c:\\Users\\USER\\Documents\\OPLearning\\10_Academy\\Week_8_&_9\\myenv\\Lib\\site-packages\\sklearn\\linear_model\\_logistic.py:469: ConvergenceWarning: lbfgs failed to converge (status=1):\n",
      "STOP: TOTAL NO. of ITERATIONS REACHED LIMIT.\n",
      "\n",
      "Increase the number of iterations (max_iter) or scale the data as shown in:\n",
      "    https://scikit-learn.org/stable/modules/preprocessing.html\n",
      "Please also refer to the documentation for alternative solver options:\n",
      "    https://scikit-learn.org/stable/modules/linear_model.html#logistic-regression\n",
      "  n_iter_i = _check_optimize_result(\n",
      "2024/10/22 14:57:55 WARNING mlflow.models.model: Model logged without a signature and input example. Please set `input_example` parameter when logging the model to auto infer the model signature.\n"
     ]
    },
    {
     "name": "stdout",
     "output_type": "stream",
     "text": [
      "Logistic Regression - Fraud - Accuracy: 0.9331303973794792, Precision: 0.958011049723757, Recall: 0.3042105263157895, F1 Score: 0.4617842876165113, ROC-AUC: 0.7649434165181338\n"
     ]
    },
    {
     "name": "stderr",
     "output_type": "stream",
     "text": [
      "2024/10/22 14:58:02 WARNING mlflow.models.model: Model logged without a signature and input example. Please set `input_example` parameter when logging the model to auto infer the model signature.\n"
     ]
    },
    {
     "name": "stdout",
     "output_type": "stream",
     "text": [
      "Decision Tree - Fraud - Accuracy: 0.9025576547662376, Precision: 0.4856365285757484, Recall: 0.5635087719298245, F1 Score: 0.5216826376482053, ROC-AUC: 0.7506836228041334\n"
     ]
    },
    {
     "name": "stderr",
     "output_type": "stream",
     "text": [
      "2024/10/22 14:58:40 WARNING mlflow.models.model: Model logged without a signature and input example. Please set `input_example` parameter when logging the model to auto infer the model signature.\n"
     ]
    },
    {
     "name": "stdout",
     "output_type": "stream",
     "text": [
      "Random Forest - Fraud - Accuracy: 0.9564239155609966, Precision: 1.0, Recall: 0.5378947368421053, F1 Score: 0.6995208761122519, ROC-AUC: 0.7686466495028716\n"
     ]
    },
    {
     "name": "stderr",
     "output_type": "stream",
     "text": [
      "2024/10/22 14:59:21 WARNING mlflow.models.model: Model logged without a signature and input example. Please set `input_example` parameter when logging the model to auto infer the model signature.\n"
     ]
    },
    {
     "name": "stdout",
     "output_type": "stream",
     "text": [
      "Gradient Boosting - Fraud - Accuracy: 0.9564570029447772, Precision: 1.0, Recall: 0.5382456140350877, F1 Score: 0.6998175182481752, ROC-AUC: 0.7761667438973352\n"
     ]
    },
    {
     "name": "stderr",
     "output_type": "stream",
     "text": [
      "2024/10/22 15:06:01 WARNING mlflow.models.model: Model logged without a signature and input example. Please set `input_example` parameter when logging the model to auto infer the model signature.\n"
     ]
    },
    {
     "name": "stdout",
     "output_type": "stream",
     "text": [
      "MLP Classifier - Fraud - Accuracy: 0.9237666677695795, Precision: 0.9739583333333334, Recall: 0.1968421052631579, F1 Score: 0.3274956217162872, ROC-AUC: 0.7658989938221875\n"
     ]
    }
   ],
   "source": [
    "print(\"Training models on fraud data...\")\n",
    "for model_name, model in models.items():\n",
    "    train_and_evaluate_model(model, model_name + \" - Fraud\", X_train_fraud, X_test_fraud, y_train_fraud, y_test_fraud)"
   ]
  },
  {
   "cell_type": "markdown",
   "metadata": {},
   "source": [
    "# ---------------------------\n",
    "# Deep Learning Models (CNN, RNN, LSTM)\n",
    "# ---------------------------"
   ]
  }
 ],
 "metadata": {
  "kernelspec": {
   "display_name": "myenv",
   "language": "python",
   "name": "python3"
  },
  "language_info": {
   "codemirror_mode": {
    "name": "ipython",
    "version": 3
   },
   "file_extension": ".py",
   "mimetype": "text/x-python",
   "name": "python",
   "nbconvert_exporter": "python",
   "pygments_lexer": "ipython3",
   "version": "3.11.2"
  }
 },
 "nbformat": 4,
 "nbformat_minor": 2
}
