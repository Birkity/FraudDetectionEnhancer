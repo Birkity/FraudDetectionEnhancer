{
 "cells": [
  {
   "cell_type": "markdown",
   "metadata": {},
   "source": [
    "Step 1: Data Cleaning and Saving Cleaned Versions"
   ]
  },
  {
   "cell_type": "code",
   "execution_count": 12,
   "metadata": {},
   "outputs": [],
   "source": [
    "import sys\n",
    "import os\n",
    "import pandas as pd\n",
    "import seaborn as sns\n",
    "import matplotlib.pyplot as plt\n",
    "\n",
    "sys.path.append(os.path.abspath('../scripts'))\n",
    "\n",
    "from data_loading import load_data\n",
    "from data_cleaning import handle_missing_values, drop_duplicates, convert_to_datetime\n",
    "from eda import plot_histogram, plot_count, plot_boxplot\n",
    "from feature_engineering import create_transaction_frequency, extract_time_features\n",
    "from scaling_encoding import scale_column, encode_labels\n",
    "from geolocation import merge_ip_country\n",
    "from utils import save_data"
   ]
  },
  {
   "cell_type": "code",
   "execution_count": 18,
   "metadata": {},
   "outputs": [],
   "source": [
    "df_creditcard = pd.read_csv('../data/creditcard.csv')"
   ]
  },
  {
   "cell_type": "code",
   "execution_count": 19,
   "metadata": {},
   "outputs": [],
   "source": [
    "df_creditcard = handle_missing_values(df_creditcard)"
   ]
  },
  {
   "cell_type": "code",
   "execution_count": 20,
   "metadata": {},
   "outputs": [
    {
     "name": "stdout",
     "output_type": "stream",
     "text": [
      "The input is not a DataFrame.\n"
     ]
    }
   ],
   "source": [
    "df_creditcard = drop_duplicates(df_creditcard)"
   ]
  },
  {
   "cell_type": "code",
   "execution_count": 21,
   "metadata": {},
   "outputs": [
    {
     "name": "stdout",
     "output_type": "stream",
     "text": [
      "The input is not a DataFrame.\n"
     ]
    },
    {
     "name": "stderr",
     "output_type": "stream",
     "text": [
      "c:\\Users\\USER\\Documents\\OPLearning\\10_Academy\\Week_8_&_9\\scripts\\data_cleaning.py:15: FutureWarning: Setting an item of incompatible dtype is deprecated and will raise an error in a future version of pandas. Value '1970-01-01 00:00:00' has dtype incompatible with int64, please explicitly cast to a compatible dtype first.\n",
      "  df[col] = pd.to_datetime(df[col])\n"
     ]
    }
   ],
   "source": [
    "df_fraud_data = pd.read_csv('../data/Fraud_Data.csv')\n",
    "df_fraud_data = handle_missing_values(df_fraud_data)\n",
    "df_fraud_data = drop_duplicates(df_fraud_data)\n",
    "df_fraud_data = convert_to_datetime(df_fraud_data, ['purchase_time'])"
   ]
  }
 ],
 "metadata": {
  "kernelspec": {
   "display_name": "myenv",
   "language": "python",
   "name": "python3"
  },
  "language_info": {
   "codemirror_mode": {
    "name": "ipython",
    "version": 3
   },
   "file_extension": ".py",
   "mimetype": "text/x-python",
   "name": "python",
   "nbconvert_exporter": "python",
   "pygments_lexer": "ipython3",
   "version": "3.11.2"
  }
 },
 "nbformat": 4,
 "nbformat_minor": 2
}
